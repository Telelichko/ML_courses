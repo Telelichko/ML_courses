{
 "cells": [
  {
   "cell_type": "markdown",
   "metadata": {},
   "source": [
    "20.03.15 - Открытие файла формата csv и внесение изменений.\n",
    "\n",
    "Полезные ссылки:\n",
    "1. Ссылка на открытие файла: https://pythonru.com/uroki/osnovy-pandas-1-chtenie-fajlov-dataframe-otbor-dannyh.\n",
    "2. Про изменение данных в файле csv: https://www.dataquest.io/blog/settingwithcopywarning/."
   ]
  },
  {
   "cell_type": "code",
   "execution_count": 4,
   "metadata": {},
   "outputs": [],
   "source": [
    "import numpy as np\n",
    "import pandas as pd\n",
    "\n",
    "# Чтение файла .csv\n",
    "data = pd.read_csv('../../additional_files/file_csv.csv',delimiter=',').copy()\n",
    "\n",
    "# Измение данных в ячейке [2, 0]\n",
    "data.loc[2, 'animal']='new_animal'\n",
    "\n",
    "# Запись измененных данных в исходный файл\n",
    "data.to_csv('../../additional_files/file_csv.csv')"
   ]
  },
  {
   "cell_type": "markdown",
   "metadata": {},
   "source": [
    "20.03.15 - Открытие файла через pandas\n",
    "\n",
    "Полезные ссылки:\n",
    "1. По созданию экселевского файла: https://py-my.ru/post/4e15588e1d41c81105000003/index.html;"
   ]
  },
  {
   "cell_type": "markdown",
   "metadata": {},
   "source": [
    "В связи с личным интересом задание дополнено. Новое задание:\n",
    "\n",
    "Копирование данных с имеющегося файла .xlsx в созданный"
   ]
  },
  {
   "cell_type": "code",
   "execution_count": 5,
   "metadata": {},
   "outputs": [],
   "source": [
    "# coding: utf8\n",
    "\n",
    "import xlwt # Импорт библиотеки для создания эксель файла\n",
    "import pandas as pd # Импорт библиотеки для обработки данных\n",
    "\n",
    "# Создание книги\n",
    "excel_file = xlwt.Workbook('utf8') \n",
    "\n",
    "# Установка шрифта\n",
    "font = xlwt.easyxf('font: height 240,name Arial,colour_index black, bold off,\\\n",
    "    italic off; align: wrap on, vert top, horiz left;\\\n",
    "    pattern: pattern solid, fore_colour red;')\n",
    "\n",
    "# Добавление листа\n",
    "sheet = excel_file.add_sheet('Answers')\n",
    "\n",
    "# Сохранения в файл \"ZM_answers.xlsx\"\n",
    "excel_file.save('../../additional_files/ZM_answers.xlsx')\n",
    "\n",
    "# Чтение данных с файла \"Сводная таблица результатов 19.08.11.xlsx\", лист \"Ответы\". Запись в переменную data\n",
    "# --- range работает некорректно - не ограничивает сохраняемую область данных\n",
    "data = pd.read_excel('../../additional_files\\Psychological_experiment_data_190811.xlsx', sheet_name='Answers', range='A1:CT137')\n",
    "\n",
    "# Запись данных data в файл ZM_answers.xlsx \n",
    "# --- Данные заполняются не идентичные 1-му файлу - добавляются заголовки строк и столбцов от pandas\n",
    "data.to_excel('../../additional_files/ZM_answers.xlsx', sheet_name='Answers')"
   ]
  },
  {
   "cell_type": "code",
   "execution_count": 12,
   "metadata": {},
   "outputs": [],
   "source": []
  },
  {
   "cell_type": "code",
   "execution_count": null,
   "metadata": {},
   "outputs": [],
   "source": []
  }
 ],
 "metadata": {
  "kernelspec": {
   "display_name": "Python 3",
   "language": "python",
   "name": "python3"
  },
  "language_info": {
   "codemirror_mode": {
    "name": "ipython",
    "version": 3
   },
   "file_extension": ".py",
   "mimetype": "text/x-python",
   "name": "python",
   "nbconvert_exporter": "python",
   "pygments_lexer": "ipython3",
   "version": "3.7.0"
  }
 },
 "nbformat": 4,
 "nbformat_minor": 2
}
