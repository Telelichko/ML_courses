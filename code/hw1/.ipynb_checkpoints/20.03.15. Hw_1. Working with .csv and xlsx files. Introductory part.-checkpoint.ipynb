{
 "cells": [
  {
   "cell_type": "markdown",
   "metadata": {},
   "source": [
    "20.03.15. Дз после 2 урока"
   ]
  },
  {
   "cell_type": "markdown",
   "metadata": {},
   "source": [
    "Задание 1. Открытие файла формата csv и внесение изменений.\n",
    "\n",
    "Полезные ссылки:\n",
    "1. Ссылка на открытие файла: https://pythonru.com/uroki/osnovy-pandas-1-chtenie-fajlov-dataframe-otbor-dannyh.\n",
    "2. Про изменение данных в файле csv: https://www.dataquest.io/blog/settingwithcopywarning/."
   ]
  },
  {
   "cell_type": "code",
   "execution_count": 6,
   "metadata": {},
   "outputs": [],
   "source": [
    "import pandas as pd\n",
    "\n",
    "# Чтение файла .csv\n",
    "data = pd.read_csv('../../additional_files/file_csv.csv',delimiter=',').copy()\n",
    "\n",
    "# Измение данных в ячейке [2, 0]\n",
    "data.loc[2, 'animal']='new_animal'\n",
    "\n",
    "# Запись измененных данных в исходный файл\n",
    "data.to_csv('../../additional_files/file_csv.csv')"
   ]
  },
  {
   "cell_type": "markdown",
   "metadata": {},
   "source": [
    "Задание 2. Открытие файла через pandas\n",
    "\n",
    "Полезные ссылки:\n",
    "1. По созданию экселевского файла: https://py-my.ru/post/4e15588e1d41c81105000003/index.html;"
   ]
  },
  {
   "cell_type": "markdown",
   "metadata": {},
   "source": [
    "В связи с личным интересом задание дополнено. Новое задание:\n",
    "\n",
    "Копирование данных с имеющегося файла .xlsx в созданный"
   ]
  },
  {
   "cell_type": "code",
   "execution_count": 5,
   "metadata": {},
   "outputs": [],
   "source": [
    "# coding: utf8\n",
    "\n",
    "import xlwt # Импорт библиотеки для создания эксель файла\n",
    "import pandas as pd # Импорт библиотеки для обработки данных\n",
    "\n",
    "# Создание книги\n",
    "excel_file = xlwt.Workbook('utf8') \n",
    "\n",
    "# Установка шрифта\n",
    "font = xlwt.easyxf('font: height 240,name Arial,colour_index black, bold off,\\\n",
    "    italic off; align: wrap on, vert top, horiz left;\\\n",
    "    pattern: pattern solid, fore_colour red;')\n",
    "\n",
    "# Добавление листа\n",
    "sheet = excel_file.add_sheet('Answers')\n",
    "\n",
    "# Сохранения в файл \"ZM_answers.xlsx\"\n",
    "excel_file.save('../../additional_files/ZM_answers.xlsx')\n",
    "\n",
    "# Чтение данных с файла \"Сводная таблица результатов 19.08.11.xlsx\", лист \"Ответы\". Запись в переменную data\n",
    "# --- range работает некорректно - не ограничивает сохраняемую область данных\n",
    "data = pd.read_excel('../../additional_files\\Psychological_experiment_data_190811.xlsx', sheet_name='Answers', range='A1:CT137')\n",
    "\n",
    "# Запись данных data в файл ZM_answers.xlsx \n",
    "# --- Данные заполняются не идентичные 1-му файлу - добавляются заголовки строк и столбцов от pandas\n",
    "data.to_excel('../../additional_files/ZM_answers.xlsx', sheet_name='Answers')"
   ]
  },
  {
   "cell_type": "markdown",
   "metadata": {},
   "source": [
    "Задание 3.1. Титаник. Деление данных на обучающую и тестовую выборки"
   ]
  },
  {
   "cell_type": "code",
   "execution_count": 35,
   "metadata": {},
   "outputs": [],
   "source": [
    "import pandas as pd\n",
    "from matplotlib import pyplot as plt\n",
    "\n",
    "# Чтение файла .csv\n",
    "data = pd.read_csv('../../datasets/in/titanic/train_and_test2.csv',delimiter=',').copy()\n",
    "\n",
    "# Получение количества строк\n",
    "data_length = len(data)\n",
    "\n",
    "# Получение значение \"разделителя данных\" с учетом того, что первые 80% данных пойдут на тренировочную выборку\n",
    "data_delimiter = (int)(data_length * 0.8)"
   ]
  },
  {
   "cell_type": "code",
   "execution_count": 36,
   "metadata": {},
   "outputs": [
    {
     "data": {
      "text/plain": [
       "True"
      ]
     },
     "execution_count": 36,
     "metadata": {},
     "output_type": "execute_result"
    }
   ],
   "source": [
    "# Тест на проверку общего количества данных\n",
    "len(data[:data_delimiter] + data[data_delimiter:]) == data_length"
   ]
  },
  {
   "cell_type": "code",
   "execution_count": 37,
   "metadata": {},
   "outputs": [],
   "source": [
    "# Сохранение данных обучающей выборки\n",
    "data[:data_delimiter].to_csv('../../datasets/out/titanic/train.csv')\n",
    "\n",
    "# Сохранение данных тестовой выборки\n",
    "data[data_delimiter:].to_csv('../../datasets/out/titanic/test.csv')"
   ]
  },
  {
   "cell_type": "markdown",
   "metadata": {},
   "source": [
    "Задание 3.2. Титаник. Вывод статистик по обучающей и тестовой выборкам"
   ]
  },
  {
   "cell_type": "code",
   "execution_count": 83,
   "metadata": {},
   "outputs": [],
   "source": [
    "# Инициализация переменной для обучающей выборки\n",
    "data_train = pd.read_csv('../../datasets/out/titanic/train.csv',delimiter=',').copy()\n",
    "\n",
    "# Инициализация переменной для тестовой выборки\n",
    "data_test = pd.read_csv('../../datasets/out/titanic/test.csv',delimiter=',').copy()"
   ]
  },
  {
   "cell_type": "code",
   "execution_count": null,
   "metadata": {},
   "outputs": [],
   "source": [
    "# Вывод дескриптивных статистик для обучающей выборки\n",
    "print('Дескриптивные статистики для тренировочной выборки')\n",
    "print(data_train.describe())"
   ]
  },
  {
   "cell_type": "code",
   "execution_count": 85,
   "metadata": {
    "collapsed": true
   },
   "outputs": [
    {
     "name": "stdout",
     "output_type": "stream",
     "text": [
      "Дескриптивные статистики для тренировочной выборки\n",
      "        Unnamed: 0  Passengerid         Age        Fare         Sex  \\\n",
      "count   262.000000   262.000000  262.000000  262.000000  262.000000   \n",
      "mean   1177.500000  1178.500000   29.450382   35.362245    0.362595   \n",
      "std      75.777085    75.777085   12.640868   54.192205    0.481669   \n",
      "min    1047.000000  1048.000000    0.170000    0.000000    0.000000   \n",
      "25%    1112.250000  1113.250000   22.000000    7.889575    0.000000   \n",
      "50%    1177.500000  1178.500000   28.000000   14.427100    0.000000   \n",
      "75%    1242.750000  1243.750000   36.000000   36.156250    1.000000   \n",
      "max    1308.000000  1309.000000   64.000000  512.329200    1.000000   \n",
      "\n",
      "            sibsp   zero  zero.1  zero.2  zero.3    ...     zero.12  zero.13  \\\n",
      "count  262.000000  262.0   262.0   262.0   262.0    ...       262.0    262.0   \n",
      "mean     0.438931    0.0     0.0     0.0     0.0    ...         0.0      0.0   \n",
      "std      0.931614    0.0     0.0     0.0     0.0    ...         0.0      0.0   \n",
      "min      0.000000    0.0     0.0     0.0     0.0    ...         0.0      0.0   \n",
      "25%      0.000000    0.0     0.0     0.0     0.0    ...         0.0      0.0   \n",
      "50%      0.000000    0.0     0.0     0.0     0.0    ...         0.0      0.0   \n",
      "75%      1.000000    0.0     0.0     0.0     0.0    ...         0.0      0.0   \n",
      "max      8.000000    0.0     0.0     0.0     0.0    ...         0.0      0.0   \n",
      "\n",
      "       zero.14      Pclass  zero.15  zero.16    Embarked  zero.17  zero.18  \\\n",
      "count    262.0  262.000000    262.0    262.0  262.000000    262.0    262.0   \n",
      "mean       0.0    2.244275      0.0      0.0    1.431298      0.0      0.0   \n",
      "std        0.0    0.826678      0.0      0.0    0.849303      0.0      0.0   \n",
      "min        0.0    1.000000      0.0      0.0    0.000000      0.0      0.0   \n",
      "25%        0.0    2.000000      0.0      0.0    1.000000      0.0      0.0   \n",
      "50%        0.0    2.000000      0.0      0.0    2.000000      0.0      0.0   \n",
      "75%        0.0    3.000000      0.0      0.0    2.000000      0.0      0.0   \n",
      "max        0.0    3.000000      0.0      0.0    2.000000      0.0      0.0   \n",
      "\n",
      "       2urvived  \n",
      "count     262.0  \n",
      "mean        0.0  \n",
      "std         0.0  \n",
      "min         0.0  \n",
      "25%         0.0  \n",
      "50%         0.0  \n",
      "75%         0.0  \n",
      "max         0.0  \n",
      "\n",
      "[8 rows x 29 columns]\n"
     ]
    }
   ],
   "source": [
    "# Вывод дескриптивных статистик для тестовой выборки\n",
    "print('Дескриптивные статистики для тестовой выборки')\n",
    "print(data_test.describe())"
   ]
  },
  {
   "cell_type": "markdown",
   "metadata": {},
   "source": [
    "Задание 3.3. Титаник. Построение гистограмм по числовым колонкам для обучающей и тестовой выборки"
   ]
  },
  {
   "cell_type": "code",
   "execution_count": 92,
   "metadata": {},
   "outputs": [
    {
     "data": {
      "text/plain": [
       "<matplotlib.axes._subplots.AxesSubplot at 0x964b030>"
      ]
     },
     "execution_count": 92,
     "metadata": {},
     "output_type": "execute_result"
    },
    {
     "data": {
      "image/png": "[encoded data removed]",
      "text/plain": [
       "<Figure size 432x288 with 1 Axes>"
      ]
     },
     "metadata": {
      "needs_background": "light"
     },
     "output_type": "display_data"
    }
   ],
   "source": [
    "# Построение гистограммы по колонке возраст для обучающей выборки\n",
    "data_train['Age'].hist(bins=75)"
   ]
  },
  {
   "cell_type": "code",
   "execution_count": 94,
   "metadata": {},
   "outputs": [
    {
     "data": {
      "text/plain": [
       "<matplotlib.axes._subplots.AxesSubplot at 0x9847430>"
      ]
     },
     "execution_count": 94,
     "metadata": {},
     "output_type": "execute_result"
    },
    {
     "data": {
      "image/png": "[encoded data removed]",
      "text/plain": [
       "<Figure size 432x288 with 1 Axes>"
      ]
     },
     "metadata": {
      "needs_background": "light"
     },
     "output_type": "display_data"
    }
   ],
   "source": [
    "# Построение гистограммы по колонке цена билета для обучающей выборки\n",
    "data_train['Fare'].hist(bins=25)"
   ]
  },
  {
   "cell_type": "code",
   "execution_count": 95,
   "metadata": {},
   "outputs": [
    {
     "data": {
      "text/plain": [
       "<matplotlib.axes._subplots.AxesSubplot at 0x989bf10>"
      ]
     },
     "execution_count": 95,
     "metadata": {},
     "output_type": "execute_result"
    },
    {
     "data": {
      "image/png": "[encoded data removed]",
      "text/plain": [
       "<Figure size 432x288 with 1 Axes>"
      ]
     },
     "metadata": {
      "needs_background": "light"
     },
     "output_type": "display_data"
    }
   ],
   "source": [
    "# Построение гистограммы по колонке возраст для тестовой выборки\n",
    "data_test['Age'].hist(bins=75)"
   ]
  },
  {
   "cell_type": "code",
   "execution_count": 96,
   "metadata": {
    "scrolled": true
   },
   "outputs": [
    {
     "data": {
      "text/plain": [
       "<matplotlib.axes._subplots.AxesSubplot at 0x9950450>"
      ]
     },
     "execution_count": 96,
     "metadata": {},
     "output_type": "execute_result"
    },
    {
     "data": {
      "image/png": "[encoded data removed]",
      "text/plain": [
       "<Figure size 432x288 with 1 Axes>"
      ]
     },
     "metadata": {
      "needs_background": "light"
     },
     "output_type": "display_data"
    }
   ],
   "source": [
    "# Построение гистограммы по колонке цена билета для тестовой выборки\n",
    "data_test['Fare'].hist(bins=25)"
   ]
  },
  {
   "cell_type": "markdown",
   "metadata": {},
   "source": [
    "Задание 3.4. Титаник. Оценить нормальность (Гаусс) по критериям"
   ]
  },
  {
   "cell_type": "code",
   "execution_count": null,
   "metadata": {},
   "outputs": [],
   "source": [
    "# Не решено."
   ]
  }
 ],
 "metadata": {
  "kernelspec": {
   "display_name": "Python 3",
   "language": "python",
   "name": "python3"
  },
  "language_info": {
   "codemirror_mode": {
    "name": "ipython",
    "version": 3
   },
   "file_extension": ".py",
   "mimetype": "text/x-python",
   "name": "python",
   "nbconvert_exporter": "python",
   "pygments_lexer": "ipython3",
   "version": "3.7.0"
  }
 },
 "nbformat": 4,
 "nbformat_minor": 2
}
