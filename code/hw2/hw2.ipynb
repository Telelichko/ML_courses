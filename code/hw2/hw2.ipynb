{
 "cells": [
  {
   "cell_type": "markdown",
   "metadata": {},
   "source": [
    "Задание 1.\n",
    "\n",
    "1.1. Разобраться в функциях sklearn GridSearch, RandomSearch для дерева решений и логистической регрессии.\n",
    "\n",
    "1.2. Сравнить результаты для обоих моделей. "
   ]
  },
  {
   "cell_type": "markdown",
   "metadata": {},
   "source": [
    "Проблемы с установкой graphviz.\n",
    "\n",
    "Возможное решение: https://overcoder.net/q/463149/python-%D0%BF%D1%80%D0%BE%D0%B1%D0%BB%D0%B5%D0%BC%D1%8B-%D1%81-%D1%83%D1%81%D1%82%D0%B0%D0%BD%D0%BE%D0%B2%D0%BA%D0%BE%D0%B9-pygraphviz-%D0%B8-graphviz"
   ]
  },
  {
   "cell_type": "code",
   "execution_count": null,
   "metadata": {},
   "outputs": [],
   "source": []
  },
  {
   "cell_type": "markdown",
   "metadata": {},
   "source": [
    "Задание 2.\n",
    "\n",
    "2.1. Взять исходный датасет Titanic и попробовать не выбрасывать строковые переменные, а закадировать их. \n",
    "Вам могут помочь LabelEncoder, OneHotEncoder и др, которые можно увидеть в соответствующих библиотеках sklearn. \n",
    "Сравнить полученные результаты со случаем, когда строковые переменные не использовались. \n",
    "И там и там используйте модель с гиперпараметрами, найденными в первом пункте."
   ]
  },
  {
   "cell_type": "markdown",
   "metadata": {},
   "source": [
    "Полезные ссылки:\n",
    "    \n",
    "1) Отличия LabelEncoder от OneHotEncoder: https://habr.com/ru/post/456294/"
   ]
  },
  {
   "cell_type": "code",
   "execution_count": null,
   "metadata": {},
   "outputs": [],
   "source": []
  },
  {
   "cell_type": "code",
   "execution_count": 7,
   "metadata": {},
   "outputs": [],
   "source": [
    "import pandas as pd\n",
    "import numpy as np\n",
    "\n",
    "from matplotlib import pyplot as plt\n",
    "from sklearn.linear_model import LogisticRegression\n",
    "from sklearn.model_selection import train_test_split\n",
    "from sklearn.preprocessing import LabelEncoder\n",
    "from sklearn.preprocessing import OneHotEncoder"
   ]
  },
  {
   "cell_type": "code",
   "execution_count": 13,
   "metadata": {},
   "outputs": [],
   "source": [
    "#Запуск случайных чисел\n",
    "seed = 42\n",
    "np.random.seed(seed)\n",
    "\n",
    "# Чтение файла с обучающейся выборкой\n",
    "data = pd.read_csv('../../datasets/in/titanic/train.csv')\n",
    "\n",
    "# Присвоение переменным значений с количеством спасшихся и с остальными данными\n",
    "y = data['Survived']\n",
    "x = data.drop(['Survived'], axis=1)\n",
    "\n",
    "# Функция по переводу строкового признака Пол в числовой\n",
    "def binarize(x):\n",
    "    if x == 'female':\n",
    "        return 1\n",
    "    else:\n",
    "        return 0\n",
    "\n",
    "# Перевод строкового признака Пол в числовой\n",
    "x['Sex'] = x['Sex'].apply(lambda d: binarize(d))\n",
    "\n",
    "# Добавление столбца с признаком удаленого события\n",
    "x['Age_unk'] = x['Age'].apply(lambda d: np.isnan(d))\n",
    "\n",
    "# Замена нулевых значений медианой\n",
    "x['Age'].fillna(x['Age'].median(), inplace=True)\n",
    "\n",
    "# Метод позволяющей поделить данные на 20 и 80%\n",
    "X_train, X_test, y_train, y_test = train_test_split(x,\n",
    "                                                   y, test_size=0.2,\n",
    "                                                   random_state=seed)"
   ]
  },
  {
   "cell_type": "code",
   "execution_count": 9,
   "metadata": {},
   "outputs": [],
   "source": [
    "# Присвоение значений признаков для обучающей и тестовой выборке переменным\n",
    "X_train_drop = X_train\n",
    "X_test_drop = X_test\n",
    "\n",
    "X_train_encoder = X_train\n",
    "X_test_encoder = X_test"
   ]
  },
  {
   "cell_type": "code",
   "execution_count": 10,
   "metadata": {},
   "outputs": [],
   "source": [
    "# Удаление лишних (не числовых столбцов)\n",
    "drop = ['PassengerId', 'Name', 'Ticket', 'Cabin', 'Embarked']\n",
    "X_train_drop.drop(columns=drop, inplace=True)\n",
    "X_train_drop.drop(columns=drop, inplace=True)"
   ]
  },
  {
   "cell_type": "code",
   "execution_count": null,
   "metadata": {},
   "outputs": [],
   "source": []
  },
  {
   "cell_type": "code",
   "execution_count": null,
   "metadata": {},
   "outputs": [],
   "source": []
  },
  {
   "cell_type": "code",
   "execution_count": null,
   "metadata": {},
   "outputs": [],
   "source": []
  },
  {
   "cell_type": "code",
   "execution_count": null,
   "metadata": {},
   "outputs": [],
   "source": []
  },
  {
   "cell_type": "code",
   "execution_count": null,
   "metadata": {},
   "outputs": [],
   "source": []
  },
  {
   "cell_type": "code",
   "execution_count": null,
   "metadata": {},
   "outputs": [],
   "source": []
  },
  {
   "cell_type": "code",
   "execution_count": null,
   "metadata": {},
   "outputs": [],
   "source": []
  },
  {
   "cell_type": "code",
   "execution_count": null,
   "metadata": {},
   "outputs": [],
   "source": []
  },
  {
   "cell_type": "code",
   "execution_count": null,
   "metadata": {},
   "outputs": [],
   "source": []
  },
  {
   "cell_type": "code",
   "execution_count": null,
   "metadata": {},
   "outputs": [],
   "source": []
  },
  {
   "cell_type": "code",
   "execution_count": null,
   "metadata": {},
   "outputs": [],
   "source": []
  },
  {
   "cell_type": "code",
   "execution_count": null,
   "metadata": {},
   "outputs": [],
   "source": []
  },
  {
   "cell_type": "code",
   "execution_count": null,
   "metadata": {},
   "outputs": [],
   "source": []
  },
  {
   "cell_type": "code",
   "execution_count": null,
   "metadata": {},
   "outputs": [],
   "source": []
  },
  {
   "cell_type": "markdown",
   "metadata": {},
   "source": [
    "Задание 3.\n",
    "\n",
    "3.1. Посмотреть метрики вида (в библиотеке sklearn) Precision, Accuracy, Recall и F1 score. \n",
    "\n",
    "3.2. Понять где они наиболее приемлемы для использования. \n",
    "\n",
    "3.3. Сравнить результаты модели в различных метриках. Модель наилучшая после двух пунктов."
   ]
  },
  {
   "cell_type": "markdown",
   "metadata": {},
   "source": [
    "Ссылки:\n",
    "\n",
    "1) Теория по метрикам кода (видеолекция на 8,5 мин.): https://courses.openedu.ru/courses/course-v1:mipt+DATA_AN+spring_2020/courseware/309ba8b3850e4278a9522d2c4e0e5135/4e2d182dbda54c3595a1632862257f4b/;\n"
   ]
  },
  {
   "cell_type": "code",
   "execution_count": null,
   "metadata": {},
   "outputs": [],
   "source": []
  }
 ],
 "metadata": {
  "kernelspec": {
   "display_name": "Python 3",
   "language": "python",
   "name": "python3"
  },
  "language_info": {
   "codemirror_mode": {
    "name": "ipython",
    "version": 3
   },
   "file_extension": ".py",
   "mimetype": "text/x-python",
   "name": "python",
   "nbconvert_exporter": "python",
   "pygments_lexer": "ipython3",
   "version": "3.7.0"
  }
 },
 "nbformat": 4,
 "nbformat_minor": 2
}
